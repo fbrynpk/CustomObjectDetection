{
 "cells": [
  {
   "cell_type": "markdown",
   "metadata": {},
   "source": [
    "# Importing Libraries"
   ]
  },
  {
   "cell_type": "code",
   "execution_count": 1,
   "metadata": {},
   "outputs": [],
   "source": [
    "import cv2\n",
    "import uuid\n",
    "import os\n",
    "import time"
   ]
  },
  {
   "cell_type": "markdown",
   "metadata": {},
   "source": [
    "# Define Images to Collect"
   ]
  },
  {
   "cell_type": "code",
   "execution_count": 2,
   "metadata": {},
   "outputs": [],
   "source": [
    "labels = ['thumbsup', 'thumbsdown', 'thankyou', 'livelong', 'iloveyou', 'help']\n",
    "img_nums = 5"
   ]
  },
  {
   "cell_type": "markdown",
   "metadata": {},
   "source": [
    "# Creating Paths for the Images"
   ]
  },
  {
   "cell_type": "code",
   "execution_count": 3,
   "metadata": {},
   "outputs": [],
   "source": [
    "IMG_PATH = os.path.join('data','workspace','images','collectedimages')"
   ]
  },
  {
   "cell_type": "code",
   "execution_count": 4,
   "metadata": {},
   "outputs": [],
   "source": [
    "if not os.path.exists(IMG_PATH):\n",
    "    if os.name == 'nt':\n",
    "        os.mkdir(IMG_PATH)\n",
    "    else:\n",
    "        os.makedirs(IMG_PATH)\n",
    "for label in labels:\n",
    "    path = os.path.join(IMG_PATH, label)\n",
    "    if not os.path.exists(path):\n",
    "        os.makedirs(path)"
   ]
  },
  {
   "cell_type": "markdown",
   "metadata": {},
   "source": [
    "# Capturing Images from Webcam"
   ]
  },
  {
   "cell_type": "code",
   "execution_count": 5,
   "metadata": {},
   "outputs": [
    {
     "name": "stdout",
     "output_type": "stream",
     "text": [
      "Collecting images for thumbsup\n",
      "Collecting image 0\n",
      "Collecting image 1\n",
      "Collecting image 2\n",
      "Collecting image 3\n",
      "Collecting image 4\n",
      "Collecting images for thumbsdown\n",
      "Collecting image 0\n",
      "Collecting image 1\n",
      "Collecting image 2\n",
      "Collecting image 3\n",
      "Collecting image 4\n",
      "Collecting images for thankyou\n",
      "Collecting image 0\n",
      "Collecting image 1\n",
      "Collecting image 2\n",
      "Collecting image 3\n",
      "Collecting image 4\n",
      "Collecting images for livelong\n",
      "Collecting image 0\n",
      "Collecting image 1\n",
      "Collecting image 2\n",
      "Collecting image 3\n",
      "Collecting image 4\n",
      "Collecting images for iloveyou\n",
      "Collecting image 0\n",
      "Collecting image 1\n",
      "Collecting image 2\n",
      "Collecting image 3\n",
      "Collecting image 4\n",
      "Collecting images for help\n",
      "Collecting image 0\n",
      "Collecting image 1\n",
      "Collecting image 2\n",
      "Collecting image 3\n",
      "Collecting image 4\n"
     ]
    }
   ],
   "source": [
    "for label in labels:\n",
    "    cap = cv2.VideoCapture(0)\n",
    "    print('Collecting images for {}'.format(label))\n",
    "    time.sleep(5)\n",
    "    for imgnum in range(img_nums):\n",
    "        print('Collecting image {}'.format(imgnum))\n",
    "        ret, frame = cap.read()\n",
    "        imgname = os.path.join(IMG_PATH, label, label+'.'+'{}.jpg'.format(str(uuid.uuid1())))\n",
    "        cv2.imwrite(imgname, frame)\n",
    "        cv2.imshow('frame', frame)\n",
    "        time.sleep(2)\n",
    "\n",
    "        if cv2.waitKey(1) & 0xFF == ord('q'):\n",
    "            break\n",
    "    cap.release()\n",
    "    cv2.destroyAllWindows()"
   ]
  },
  {
   "cell_type": "markdown",
   "metadata": {},
   "source": [
    "# Labeling the Data"
   ]
  },
  {
   "cell_type": "code",
   "execution_count": 4,
   "metadata": {},
   "outputs": [],
   "source": [
    "LABEL_PATH = os.path.join('data','labelimg')"
   ]
  },
  {
   "cell_type": "code",
   "execution_count": 5,
   "metadata": {},
   "outputs": [],
   "source": [
    "if not os.path.exists(LABEL_PATH):\n",
    "  !mkdir {LABEL_PATH}\n",
    "  !git clone --branch pyside6 https://github.com/heartexlabs/labelImg.git {LABEL_PATH}"
   ]
  },
  {
   "cell_type": "code",
   "execution_count": 6,
   "metadata": {},
   "outputs": [
    {
     "name": "stdout",
     "output_type": "stream",
     "text": [
      "pyside6-rcc -o libs/resources.py resources.qrc\n"
     ]
    }
   ],
   "source": [
    "if os.name == 'posix':\n",
    "  !cd {LABEL_PATH} && make pyside6\n",
    "if os.name == 'nt':\n",
    "  !cd {LABEL_PATH} && pyside6-rcc -o libs/resources.py resources.qrc"
   ]
  },
  {
   "cell_type": "code",
   "execution_count": 7,
   "metadata": {},
   "outputs": [
    {
     "name": "stdout",
     "output_type": "stream",
     "text": [
      "/Users/fbrynpk/Desktop/SignLanguageDetection/data/labelimg/labelImg.py:5: DeprecationWarning: The distutils package is deprecated and slated for removal in Python 3.12. Use setuptools or check PEP 632 for potential alternatives\n",
      "  import distutils.spawn\n",
      "2022-09-23 13:43:07.792 Python[9052:4290373] TSM AdjustCapsLockLEDForKeyTransitionHandling - _ISSetPhysicalKeyboardCapsLockLED Inhibit\n",
      "darren add lable {<libs.hashableQListWidgetItem.HashableQListWidgetItem object at 0x102895f40>: <libs.shape.Shape object at 0x1048e29b0>}\n",
      "darren add item <libs.hashableQListWidgetItem.HashableQListWidgetItem object at 0x102895f40>\n",
      "darren add shape <libs.shape.Shape object at 0x1048e29b0>\n",
      "Image:/Users/fbrynpk/Desktop/SignLanguageDetection/data/images/collectedimages/help/help.7b17a27a-38d3-11ed-924e-62b606fba5ab.jpg -> Annotation:/Users/fbrynpk/Desktop/SignLanguageDetection/data/images/collectedimages/help/help.7b17a27a-38d3-11ed-924e-62b606fba5ab.xml\n",
      "darren add lable {<libs.hashableQListWidgetItem.HashableQListWidgetItem object at 0x104937d40>: <libs.shape.Shape object at 0x1048e29b0>}\n",
      "darren add item <libs.hashableQListWidgetItem.HashableQListWidgetItem object at 0x104937d40>\n",
      "darren add shape <libs.shape.Shape object at 0x1048e29b0>\n",
      "Image:/Users/fbrynpk/Desktop/SignLanguageDetection/data/images/collectedimages/help/help.79db0726-38d3-11ed-924e-62b606fba5ab.jpg -> Annotation:/Users/fbrynpk/Desktop/SignLanguageDetection/data/images/collectedimages/help/help.79db0726-38d3-11ed-924e-62b606fba5ab.xml\n",
      "darren add lable {<libs.hashableQListWidgetItem.HashableQListWidgetItem object at 0x104936940>: <libs.shape.Shape object at 0x1048e29b0>}\n",
      "darren add item <libs.hashableQListWidgetItem.HashableQListWidgetItem object at 0x104936940>\n",
      "darren add shape <libs.shape.Shape object at 0x1048e29b0>\n",
      "Image:/Users/fbrynpk/Desktop/SignLanguageDetection/data/images/collectedimages/help/help.761fd7f6-38d3-11ed-924e-62b606fba5ab.jpg -> Annotation:/Users/fbrynpk/Desktop/SignLanguageDetection/data/images/collectedimages/help/help.761fd7f6-38d3-11ed-924e-62b606fba5ab.xml\n",
      "darren add lable {<libs.hashableQListWidgetItem.HashableQListWidgetItem object at 0x104935d80>: <libs.shape.Shape object at 0x1048e29b0>}\n",
      "darren add item <libs.hashableQListWidgetItem.HashableQListWidgetItem object at 0x104935d80>\n",
      "darren add shape <libs.shape.Shape object at 0x1048e29b0>\n",
      "Image:/Users/fbrynpk/Desktop/SignLanguageDetection/data/images/collectedimages/help/help.775f6820-38d3-11ed-924e-62b606fba5ab.jpg -> Annotation:/Users/fbrynpk/Desktop/SignLanguageDetection/data/images/collectedimages/help/help.775f6820-38d3-11ed-924e-62b606fba5ab.xml\n",
      "darren add lable {<libs.hashableQListWidgetItem.HashableQListWidgetItem object at 0x104934640>: <libs.shape.Shape object at 0x1048e29b0>}\n",
      "darren add item <libs.hashableQListWidgetItem.HashableQListWidgetItem object at 0x104934640>\n",
      "darren add shape <libs.shape.Shape object at 0x1048e29b0>\n",
      "Image:/Users/fbrynpk/Desktop/SignLanguageDetection/data/images/collectedimages/help/help.789bda2a-38d3-11ed-924e-62b606fba5ab.jpg -> Annotation:/Users/fbrynpk/Desktop/SignLanguageDetection/data/images/collectedimages/help/help.789bda2a-38d3-11ed-924e-62b606fba5ab.xml\n",
      "darren add lable {<libs.hashableQListWidgetItem.HashableQListWidgetItem object at 0x104934280>: <libs.shape.Shape object at 0x1048e29b0>}\n",
      "darren add item <libs.hashableQListWidgetItem.HashableQListWidgetItem object at 0x104934280>\n",
      "darren add shape <libs.shape.Shape object at 0x1048e29b0>\n",
      "Image:/Users/fbrynpk/Desktop/SignLanguageDetection/data/images/collectedimages/iloveyou/iloveyou.6cbe2bae-38d3-11ed-924e-62b606fba5ab.jpg -> Annotation:/Users/fbrynpk/Desktop/SignLanguageDetection/data/images/collectedimages/iloveyou/iloveyou.6cbe2bae-38d3-11ed-924e-62b606fba5ab.xml\n",
      "darren add lable {<libs.hashableQListWidgetItem.HashableQListWidgetItem object at 0x1049366c0>: <libs.shape.Shape object at 0x1048e29b0>}\n",
      "darren add item <libs.hashableQListWidgetItem.HashableQListWidgetItem object at 0x1049366c0>\n",
      "darren add shape <libs.shape.Shape object at 0x1048e29b0>\n",
      "Image:/Users/fbrynpk/Desktop/SignLanguageDetection/data/images/collectedimages/iloveyou/iloveyou.6dfe159c-38d3-11ed-924e-62b606fba5ab.jpg -> Annotation:/Users/fbrynpk/Desktop/SignLanguageDetection/data/images/collectedimages/iloveyou/iloveyou.6dfe159c-38d3-11ed-924e-62b606fba5ab.xml\n",
      "darren add lable {<libs.hashableQListWidgetItem.HashableQListWidgetItem object at 0x104934800>: <libs.shape.Shape object at 0x1048e29b0>}\n",
      "darren add item <libs.hashableQListWidgetItem.HashableQListWidgetItem object at 0x104934800>\n",
      "darren add shape <libs.shape.Shape object at 0x1048e29b0>\n",
      "Image:/Users/fbrynpk/Desktop/SignLanguageDetection/data/images/collectedimages/iloveyou/iloveyou.6f3ac4fa-38d3-11ed-924e-62b606fba5ab.jpg -> Annotation:/Users/fbrynpk/Desktop/SignLanguageDetection/data/images/collectedimages/iloveyou/iloveyou.6f3ac4fa-38d3-11ed-924e-62b606fba5ab.xml\n",
      "darren add lable {<libs.hashableQListWidgetItem.HashableQListWidgetItem object at 0x104934800>: <libs.shape.Shape object at 0x1048e29b0>}\n",
      "darren add item <libs.hashableQListWidgetItem.HashableQListWidgetItem object at 0x104934800>\n",
      "darren add shape <libs.shape.Shape object at 0x1048e29b0>\n",
      "Image:/Users/fbrynpk/Desktop/SignLanguageDetection/data/images/collectedimages/iloveyou/iloveyou.71b4c80c-38d3-11ed-924e-62b606fba5ab.jpg -> Annotation:/Users/fbrynpk/Desktop/SignLanguageDetection/data/images/collectedimages/iloveyou/iloveyou.71b4c80c-38d3-11ed-924e-62b606fba5ab.xml\n",
      "darren add lable {<libs.hashableQListWidgetItem.HashableQListWidgetItem object at 0x10492e700>: <libs.shape.Shape object at 0x1048e29b0>}\n",
      "darren add item <libs.hashableQListWidgetItem.HashableQListWidgetItem object at 0x10492e700>\n",
      "darren add shape <libs.shape.Shape object at 0x1048e29b0>\n",
      "Image:/Users/fbrynpk/Desktop/SignLanguageDetection/data/images/collectedimages/iloveyou/iloveyou.7076b7ca-38d3-11ed-924e-62b606fba5ab.jpg -> Annotation:/Users/fbrynpk/Desktop/SignLanguageDetection/data/images/collectedimages/iloveyou/iloveyou.7076b7ca-38d3-11ed-924e-62b606fba5ab.xml\n",
      "darren add lable {<libs.hashableQListWidgetItem.HashableQListWidgetItem object at 0x10492e780>: <libs.shape.Shape object at 0x1048e29b0>}\n",
      "darren add item <libs.hashableQListWidgetItem.HashableQListWidgetItem object at 0x10492e780>\n",
      "darren add shape <libs.shape.Shape object at 0x1048e29b0>\n",
      "Image:/Users/fbrynpk/Desktop/SignLanguageDetection/data/images/collectedimages/livelong/livelong.65da8fbc-38d3-11ed-924e-62b606fba5ab.jpg -> Annotation:/Users/fbrynpk/Desktop/SignLanguageDetection/data/images/collectedimages/livelong/livelong.65da8fbc-38d3-11ed-924e-62b606fba5ab.xml\n",
      "darren add lable {<libs.hashableQListWidgetItem.HashableQListWidgetItem object at 0x10492f280>: <libs.shape.Shape object at 0x1048e29b0>}\n",
      "darren add item <libs.hashableQListWidgetItem.HashableQListWidgetItem object at 0x10492f280>\n",
      "darren add shape <libs.shape.Shape object at 0x1048e29b0>\n",
      "Image:/Users/fbrynpk/Desktop/SignLanguageDetection/data/images/collectedimages/livelong/livelong.649b4f24-38d3-11ed-924e-62b606fba5ab.jpg -> Annotation:/Users/fbrynpk/Desktop/SignLanguageDetection/data/images/collectedimages/livelong/livelong.649b4f24-38d3-11ed-924e-62b606fba5ab.xml\n",
      "darren add lable {<libs.hashableQListWidgetItem.HashableQListWidgetItem object at 0x10492f400>: <libs.shape.Shape object at 0x1048e29b0>}\n",
      "darren add item <libs.hashableQListWidgetItem.HashableQListWidgetItem object at 0x10492f400>\n",
      "darren add shape <libs.shape.Shape object at 0x1048e29b0>\n",
      "Image:/Users/fbrynpk/Desktop/SignLanguageDetection/data/images/collectedimages/livelong/livelong.6358ee0a-38d3-11ed-924e-62b606fba5ab.jpg -> Annotation:/Users/fbrynpk/Desktop/SignLanguageDetection/data/images/collectedimages/livelong/livelong.6358ee0a-38d3-11ed-924e-62b606fba5ab.xml\n",
      "Cancel creation.\n",
      "darren add lable {<libs.hashableQListWidgetItem.HashableQListWidgetItem object at 0x104941680>: <libs.shape.Shape object at 0x1048e29b0>}\n",
      "darren add item <libs.hashableQListWidgetItem.HashableQListWidgetItem object at 0x104941680>\n",
      "darren add shape <libs.shape.Shape object at 0x1048e29b0>\n",
      "Image:/Users/fbrynpk/Desktop/SignLanguageDetection/data/images/collectedimages/livelong/livelong.6856c76a-38d3-11ed-924e-62b606fba5ab.jpg -> Annotation:/Users/fbrynpk/Desktop/SignLanguageDetection/data/images/collectedimages/livelong/livelong.6856c76a-38d3-11ed-924e-62b606fba5ab.xml\n",
      "darren add lable {<libs.hashableQListWidgetItem.HashableQListWidgetItem object at 0x1049419c0>: <libs.shape.Shape object at 0x1048e29b0>}\n",
      "darren add item <libs.hashableQListWidgetItem.HashableQListWidgetItem object at 0x1049419c0>\n",
      "darren add shape <libs.shape.Shape object at 0x1048e29b0>\n",
      "Image:/Users/fbrynpk/Desktop/SignLanguageDetection/data/images/collectedimages/livelong/livelong.671773ae-38d3-11ed-924e-62b606fba5ab.jpg -> Annotation:/Users/fbrynpk/Desktop/SignLanguageDetection/data/images/collectedimages/livelong/livelong.671773ae-38d3-11ed-924e-62b606fba5ab.xml\n",
      "Cancel creation.\n",
      "darren add lable {<libs.hashableQListWidgetItem.HashableQListWidgetItem object at 0x104942940>: <libs.shape.Shape object at 0x1048e29b0>}\n",
      "darren add item <libs.hashableQListWidgetItem.HashableQListWidgetItem object at 0x104942940>\n",
      "darren add shape <libs.shape.Shape object at 0x1048e29b0>\n",
      "Image:/Users/fbrynpk/Desktop/SignLanguageDetection/data/images/collectedimages/thankyou/thankyou.5b39401c-38d3-11ed-924e-62b606fba5ab.jpg -> Annotation:/Users/fbrynpk/Desktop/SignLanguageDetection/data/images/collectedimages/thankyou/thankyou.5b39401c-38d3-11ed-924e-62b606fba5ab.xml\n",
      "darren add lable {<libs.hashableQListWidgetItem.HashableQListWidgetItem object at 0x104942940>: <libs.shape.Shape object at 0x1048e2b90>}\n",
      "darren add item <libs.hashableQListWidgetItem.HashableQListWidgetItem object at 0x104942940>\n",
      "darren add shape <libs.shape.Shape object at 0x1048e2b90>\n",
      "darren add lable {<libs.hashableQListWidgetItem.HashableQListWidgetItem object at 0x104941d40>: <libs.shape.Shape object at 0x1048e2b90>}\n",
      "darren add item <libs.hashableQListWidgetItem.HashableQListWidgetItem object at 0x104941d40>\n",
      "darren add shape <libs.shape.Shape object at 0x1048e2b90>\n",
      "Image:/Users/fbrynpk/Desktop/SignLanguageDetection/data/images/collectedimages/thankyou/thankyou.5c74b542-38d3-11ed-924e-62b606fba5ab.jpg -> Annotation:/Users/fbrynpk/Desktop/SignLanguageDetection/data/images/collectedimages/thankyou/thankyou.5c74b542-38d3-11ed-924e-62b606fba5ab.xml\n",
      "darren add lable {<libs.hashableQListWidgetItem.HashableQListWidgetItem object at 0x104942e40>: <libs.shape.Shape object at 0x1048e2b90>}\n",
      "darren add item <libs.hashableQListWidgetItem.HashableQListWidgetItem object at 0x104942e40>\n",
      "darren add shape <libs.shape.Shape object at 0x1048e2b90>\n",
      "Image:/Users/fbrynpk/Desktop/SignLanguageDetection/data/images/collectedimages/thankyou/thankyou.5db2dd1c-38d3-11ed-924e-62b606fba5ab.jpg -> Annotation:/Users/fbrynpk/Desktop/SignLanguageDetection/data/images/collectedimages/thankyou/thankyou.5db2dd1c-38d3-11ed-924e-62b606fba5ab.xml\n",
      "darren add lable {<libs.hashableQListWidgetItem.HashableQListWidgetItem object at 0x104942300>: <libs.shape.Shape object at 0x1048e2b90>}\n",
      "darren add item <libs.hashableQListWidgetItem.HashableQListWidgetItem object at 0x104942300>\n",
      "darren add shape <libs.shape.Shape object at 0x1048e2b90>\n",
      "Image:/Users/fbrynpk/Desktop/SignLanguageDetection/data/images/collectedimages/thankyou/thankyou.5ef23e34-38d3-11ed-924e-62b606fba5ab.jpg -> Annotation:/Users/fbrynpk/Desktop/SignLanguageDetection/data/images/collectedimages/thankyou/thankyou.5ef23e34-38d3-11ed-924e-62b606fba5ab.xml\n",
      "darren add lable {<libs.hashableQListWidgetItem.HashableQListWidgetItem object at 0x104943c40>: <libs.shape.Shape object at 0x1048e2b90>}\n",
      "darren add item <libs.hashableQListWidgetItem.HashableQListWidgetItem object at 0x104943c40>\n",
      "darren add shape <libs.shape.Shape object at 0x1048e2b90>\n",
      "Image:/Users/fbrynpk/Desktop/SignLanguageDetection/data/images/collectedimages/thankyou/thankyou.59fa6f64-38d3-11ed-924e-62b606fba5ab.jpg -> Annotation:/Users/fbrynpk/Desktop/SignLanguageDetection/data/images/collectedimages/thankyou/thankyou.59fa6f64-38d3-11ed-924e-62b606fba5ab.xml\n",
      "darren add lable {<libs.hashableQListWidgetItem.HashableQListWidgetItem object at 0x1174d0800>: <libs.shape.Shape object at 0x1048e2b90>}\n",
      "darren add item <libs.hashableQListWidgetItem.HashableQListWidgetItem object at 0x1174d0800>\n",
      "darren add shape <libs.shape.Shape object at 0x1048e2b90>\n",
      "Image:/Users/fbrynpk/Desktop/SignLanguageDetection/data/images/collectedimages/thumbsdown/thumbsdown.51de0a48-38d3-11ed-924e-62b606fba5ab.jpg -> Annotation:/Users/fbrynpk/Desktop/SignLanguageDetection/data/images/collectedimages/thumbsdown/thumbsdown.51de0a48-38d3-11ed-924e-62b606fba5ab.xml\n",
      "darren add lable {<libs.hashableQListWidgetItem.HashableQListWidgetItem object at 0x1174d05c0>: <libs.shape.Shape object at 0x1048e2b90>}\n",
      "darren add item <libs.hashableQListWidgetItem.HashableQListWidgetItem object at 0x1174d05c0>\n",
      "darren add shape <libs.shape.Shape object at 0x1048e2b90>\n",
      "Image:/Users/fbrynpk/Desktop/SignLanguageDetection/data/images/collectedimages/thumbsdown/thumbsdown.509e3d4c-38d3-11ed-924e-62b606fba5ab.jpg -> Annotation:/Users/fbrynpk/Desktop/SignLanguageDetection/data/images/collectedimages/thumbsdown/thumbsdown.509e3d4c-38d3-11ed-924e-62b606fba5ab.xml\n",
      "darren add lable {<libs.hashableQListWidgetItem.HashableQListWidgetItem object at 0x1174d00c0>: <libs.shape.Shape object at 0x1048e2b90>}\n",
      "darren add item <libs.hashableQListWidgetItem.HashableQListWidgetItem object at 0x1174d00c0>\n",
      "darren add shape <libs.shape.Shape object at 0x1048e2b90>\n",
      "Image:/Users/fbrynpk/Desktop/SignLanguageDetection/data/images/collectedimages/thumbsdown/thumbsdown.5319f570-38d3-11ed-924e-62b606fba5ab.jpg -> Annotation:/Users/fbrynpk/Desktop/SignLanguageDetection/data/images/collectedimages/thumbsdown/thumbsdown.5319f570-38d3-11ed-924e-62b606fba5ab.xml\n",
      "darren add lable {<libs.hashableQListWidgetItem.HashableQListWidgetItem object at 0x1174d1b40>: <libs.shape.Shape object at 0x1048e2b90>}\n",
      "darren add item <libs.hashableQListWidgetItem.HashableQListWidgetItem object at 0x1174d1b40>\n",
      "darren add shape <libs.shape.Shape object at 0x1048e2b90>\n",
      "Image:/Users/fbrynpk/Desktop/SignLanguageDetection/data/images/collectedimages/thumbsdown/thumbsdown.54560b9a-38d3-11ed-924e-62b606fba5ab.jpg -> Annotation:/Users/fbrynpk/Desktop/SignLanguageDetection/data/images/collectedimages/thumbsdown/thumbsdown.54560b9a-38d3-11ed-924e-62b606fba5ab.xml\n",
      "darren add lable {<libs.hashableQListWidgetItem.HashableQListWidgetItem object at 0x1174d1f40>: <libs.shape.Shape object at 0x1048e2b90>}\n",
      "darren add item <libs.hashableQListWidgetItem.HashableQListWidgetItem object at 0x1174d1f40>\n",
      "darren add shape <libs.shape.Shape object at 0x1048e2b90>\n",
      "Image:/Users/fbrynpk/Desktop/SignLanguageDetection/data/images/collectedimages/thumbsdown/thumbsdown.559151d6-38d3-11ed-924e-62b606fba5ab.jpg -> Annotation:/Users/fbrynpk/Desktop/SignLanguageDetection/data/images/collectedimages/thumbsdown/thumbsdown.559151d6-38d3-11ed-924e-62b606fba5ab.xml\n",
      "darren add lable {<libs.hashableQListWidgetItem.HashableQListWidgetItem object at 0x1174d1440>: <libs.shape.Shape object at 0x1048e2b90>}\n",
      "darren add item <libs.hashableQListWidgetItem.HashableQListWidgetItem object at 0x1174d1440>\n",
      "darren add shape <libs.shape.Shape object at 0x1048e2b90>\n",
      "Image:/Users/fbrynpk/Desktop/SignLanguageDetection/data/images/collectedimages/thumbsup/thumbsup.4afb713e-38d3-11ed-924e-62b606fba5ab.jpg -> Annotation:/Users/fbrynpk/Desktop/SignLanguageDetection/data/images/collectedimages/thumbsup/thumbsup.4afb713e-38d3-11ed-924e-62b606fba5ab.xml\n",
      "darren add lable {<libs.hashableQListWidgetItem.HashableQListWidgetItem object at 0x1174d2300>: <libs.shape.Shape object at 0x1048e2b90>}\n",
      "darren add item <libs.hashableQListWidgetItem.HashableQListWidgetItem object at 0x1174d2300>\n",
      "darren add shape <libs.shape.Shape object at 0x1048e2b90>\n",
      "Image:/Users/fbrynpk/Desktop/SignLanguageDetection/data/images/collectedimages/thumbsup/thumbsup.4c3683cc-38d3-11ed-924e-62b606fba5ab.jpg -> Annotation:/Users/fbrynpk/Desktop/SignLanguageDetection/data/images/collectedimages/thumbsup/thumbsup.4c3683cc-38d3-11ed-924e-62b606fba5ab.xml\n",
      "darren add lable {<libs.hashableQListWidgetItem.HashableQListWidgetItem object at 0x1174d2d40>: <libs.shape.Shape object at 0x1048e2b90>}\n",
      "darren add item <libs.hashableQListWidgetItem.HashableQListWidgetItem object at 0x1174d2d40>\n",
      "darren add shape <libs.shape.Shape object at 0x1048e2b90>\n",
      "Image:/Users/fbrynpk/Desktop/SignLanguageDetection/data/images/collectedimages/thumbsup/thumbsup.49bfb00a-38d3-11ed-924e-62b606fba5ab.jpg -> Annotation:/Users/fbrynpk/Desktop/SignLanguageDetection/data/images/collectedimages/thumbsup/thumbsup.49bfb00a-38d3-11ed-924e-62b606fba5ab.xml\n",
      "darren add lable {<libs.hashableQListWidgetItem.HashableQListWidgetItem object at 0x1174d2d80>: <libs.shape.Shape object at 0x1048e2b90>}\n",
      "darren add item <libs.hashableQListWidgetItem.HashableQListWidgetItem object at 0x1174d2d80>\n",
      "darren add shape <libs.shape.Shape object at 0x1048e2b90>\n",
      "Image:/Users/fbrynpk/Desktop/SignLanguageDetection/data/images/collectedimages/thumbsup/thumbsup.4739da22-38d3-11ed-924e-62b606fba5ab.jpg -> Annotation:/Users/fbrynpk/Desktop/SignLanguageDetection/data/images/collectedimages/thumbsup/thumbsup.4739da22-38d3-11ed-924e-62b606fba5ab.xml\n",
      "darren add lable {<libs.hashableQListWidgetItem.HashableQListWidgetItem object at 0x1174d1f00>: <libs.shape.Shape object at 0x1048e2b90>}\n",
      "darren add item <libs.hashableQListWidgetItem.HashableQListWidgetItem object at 0x1174d1f00>\n",
      "darren add shape <libs.shape.Shape object at 0x1048e2b90>\n",
      "Image:/Users/fbrynpk/Desktop/SignLanguageDetection/data/images/collectedimages/thumbsup/thumbsup.4882d5c8-38d3-11ed-924e-62b606fba5ab.jpg -> Annotation:/Users/fbrynpk/Desktop/SignLanguageDetection/data/images/collectedimages/thumbsup/thumbsup.4882d5c8-38d3-11ed-924e-62b606fba5ab.xml\n"
     ]
    }
   ],
   "source": [
    "!cd {LABEL_PATH} && python3 labelImg.py"
   ]
  },
  {
   "cell_type": "code",
   "execution_count": null,
   "metadata": {},
   "outputs": [],
   "source": []
  }
 ],
 "metadata": {
  "kernelspec": {
   "display_name": "Python 3.10.7 ('.venv': venv)",
   "language": "python",
   "name": "python3"
  },
  "language_info": {
   "codemirror_mode": {
    "name": "ipython",
    "version": 3
   },
   "file_extension": ".py",
   "mimetype": "text/x-python",
   "name": "python",
   "nbconvert_exporter": "python",
   "pygments_lexer": "ipython3",
   "version": "3.10.7"
  },
  "orig_nbformat": 4,
  "vscode": {
   "interpreter": {
    "hash": "689f0e019edf2a4fa95a93e447a391e1d922331c49b99b2b66472f36c569115e"
   }
  }
 },
 "nbformat": 4,
 "nbformat_minor": 2
}
