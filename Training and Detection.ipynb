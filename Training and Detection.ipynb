{
 "cells": [
  {
   "cell_type": "code",
   "execution_count": 1,
   "metadata": {},
   "outputs": [],
   "source": [
    "import os"
   ]
  },
  {
   "cell_type": "code",
   "execution_count": 2,
   "metadata": {},
   "outputs": [],
   "source": [
    "MODEL_NAME = 'ssd_mobnet'\n",
    "PRETRAINED_MODEL = 'SSD MobileNet V2 FPNLite 320x320'\n",
    "PRETRAINED_MODEL_URL = 'http://download.tensorflow.org/models/object_detection/tf2/20200711/ssd_mobilenet_v2_fpnlite_320x320_coco17_tpu-8.tar.gz'\n",
    "TF_RECORD_SCRIPT_NAME = 'generate_tfrecord.py'\n",
    "LABEL_MAP_NAME = 'label_map.pbtxt'"
   ]
  },
  {
   "cell_type": "code",
   "execution_count": 10,
   "metadata": {},
   "outputs": [],
   "source": [
    "paths = {\n",
    "  'DATA_PATH' : os.path.join('data','workspace'),\n",
    "  'SCRIPTS_PATH' : os.path.join('data', 'scripts'),\n",
    "  'APIMODEL_PATH' : os.path.join('data', 'models'),\n",
    "  'ANNOTATION_PATH' : os.path.join('data', ,'workspace', 'annotations'), \n",
    "  'IMAGE_PATH' : os.path.join('data', 'workspace', 'images'),\n",
    "  'MODEL_PATH' : os.path.join('data', 'workspace', 'models'),\n",
    "  'PRETRAINED_MODEL_PATH': os.path.join('data', 'workspace','pre-trained-models'),\n",
    "  'CHECKPOINT_PATH': os.path.join('data', 'workspace','models',MODEL_NAME), \n",
    "  'OUTPUT_PATH': os.path.join('data', 'workspace','models',MODEL_NAME, 'export'), \n",
    "  'TFJS_PATH':os.path.join('data', 'workspace','models',MODEL_NAME, 'tfjsexport'), \n",
    "  'TFLITE_PATH':os.path.join('data', 'workspace','models',MODEL_NAME, 'tfliteexport'), \n",
    "  'PROTOC_PATH':os.path.join('Tensorflow','protoc')\n",
    "}"
   ]
  },
  {
   "cell_type": "code",
   "execution_count": 9,
   "metadata": {},
   "outputs": [
    {
     "data": {
      "text/plain": [
       "'data'"
      ]
     },
     "execution_count": 9,
     "metadata": {},
     "output_type": "execute_result"
    }
   ],
   "source": [
    "files = {\n",
    "  'PIPELINE_CONFIG':os.path.join('data', 'workspace','models',MODEL_NAME, 'pipeline.config'),\n",
    "  'TF_RECORD_SCRIPT': os.path.join(paths['SCRIPTS_PATH'], TF_RECORD_SCRIPT_NAME),\n",
    "  'LABELMAP': os.path.join(paths['ANNOTATION_PATH'], LABEL_MAP_NAME)\n",
    "}"
   ]
  },
  {
   "cell_type": "code",
   "execution_count": null,
   "metadata": {},
   "outputs": [],
   "source": [
    "for path in paths.values():\n",
    "  if not os.path.exists(path):\n",
    "    if os.name == 'posix':\n",
    "      os.makedirs(path)\n",
    "    if os.name == 'nt':\n",
    "      os.mkdir(path)"
   ]
  }
 ],
 "metadata": {
  "kernelspec": {
   "display_name": "Python 3.9.6 64-bit",
   "language": "python",
   "name": "python3"
  },
  "language_info": {
   "codemirror_mode": {
    "name": "ipython",
    "version": 3
   },
   "file_extension": ".py",
   "mimetype": "text/x-python",
   "name": "python",
   "nbconvert_exporter": "python",
   "pygments_lexer": "ipython3",
   "version": "3.9.6"
  },
  "orig_nbformat": 4,
  "vscode": {
   "interpreter": {
    "hash": "31f2aee4e71d21fbe5cf8b01ff0e069b9275f58929596ceb00d14d90e3e16cd6"
   }
  }
 },
 "nbformat": 4,
 "nbformat_minor": 2
}
